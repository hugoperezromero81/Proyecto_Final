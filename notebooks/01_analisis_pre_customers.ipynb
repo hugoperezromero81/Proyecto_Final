{
 "cells": [
  {
   "cell_type": "markdown",
   "id": "0b1189ba",
   "metadata": {},
   "source": [
    "# 📓 01_Análisis_pre_customers\n",
    "\n",
    "## 1. 🎯 Objetivo del análisis\n",
    "El objetivo de este análisis exploratorio es **comprender las características principales de los clientes** a partir del archivo `customers_origen.xlsx`.  \n",
    "\n",
    "Se busca:  \n",
    "- Conocer la **estructura del dataset** (variables, tipos de datos, volumen).  \n",
    "- Identificar **distribuciones básicas** de las variables demográficas y de comportamiento.  \n",
    "- Detectar posibles **valores nulos, duplicados o inconsistencias** que puedan requerir limpieza posterior.  \n",
    "- Establecer una **base de conocimiento** para combinar más adelante con los pedidos (`orders_origen.xlsx`).  \n",
    "\n",
    "---\n",
    "\n",
    "## 2. 📂 Descripción del dataset `customers_origen.xlsx`\n",
    "El dataset contiene **5.000 clientes** con las siguientes **variables clave** (12 columnas):  \n",
    "\n",
    "- `customer_id` → Identificador único del cliente.  \n",
    "- `first_name`, `last_name` → Datos personales.  \n",
    "- `email` → Correo electrónico.  \n",
    "- `signup_date` → Fecha de registro en la plataforma.  \n",
    "- `gender` → Género del cliente.  \n",
    "- `birth_year` → Año de nacimiento.  \n",
    "- `loyalty_tier` → Nivel de fidelización (Bronze, Silver, Gold, Platinum).  \n",
    "- `preferred_language` → Idioma preferido de comunicación.  \n",
    "- `avg_order_value` → Valor promedio de pedido del cliente.  \n",
    "- `num_orders` → Número de pedidos realizados.  \n",
    "- `segment` → Segmento del cliente (Consumer, Small Business, Corporate).  \n",
    "\n",
    "---\n",
    "\n",
    "## 3. 💻 Carga de datos y Análisis\n",
    "\n"
   ]
  },
  {
   "cell_type": "code",
   "execution_count": 2,
   "id": "50641c55",
   "metadata": {},
   "outputs": [
    {
     "data": {
      "text/html": [
       "<div>\n",
       "<style scoped>\n",
       "    .dataframe tbody tr th:only-of-type {\n",
       "        vertical-align: middle;\n",
       "    }\n",
       "\n",
       "    .dataframe tbody tr th {\n",
       "        vertical-align: top;\n",
       "    }\n",
       "\n",
       "    .dataframe thead th {\n",
       "        text-align: right;\n",
       "    }\n",
       "</style>\n",
       "<table border=\"1\" class=\"dataframe\">\n",
       "  <thead>\n",
       "    <tr style=\"text-align: right;\">\n",
       "      <th></th>\n",
       "      <th>customer_id</th>\n",
       "      <th>first_name</th>\n",
       "      <th>last_name</th>\n",
       "      <th>email</th>\n",
       "      <th>signup_date</th>\n",
       "      <th>gender</th>\n",
       "      <th>birth_year</th>\n",
       "      <th>loyalty_tier</th>\n",
       "      <th>preferred_language</th>\n",
       "      <th>avg_order_value</th>\n",
       "      <th>num_orders</th>\n",
       "      <th>segment</th>\n",
       "    </tr>\n",
       "  </thead>\n",
       "  <tbody>\n",
       "    <tr>\n",
       "      <th>0</th>\n",
       "      <td>CUST_00001</td>\n",
       "      <td>María</td>\n",
       "      <td>Sánchez</td>\n",
       "      <td>user1@example.com</td>\n",
       "      <td>2022-09-22 07:23:44.291</td>\n",
       "      <td>M</td>\n",
       "      <td>1979</td>\n",
       "      <td>Bronze</td>\n",
       "      <td>es</td>\n",
       "      <td>74.47</td>\n",
       "      <td>1</td>\n",
       "      <td>Consumer</td>\n",
       "    </tr>\n",
       "    <tr>\n",
       "      <th>1</th>\n",
       "      <td>CUST_00002</td>\n",
       "      <td>Carmen</td>\n",
       "      <td>López</td>\n",
       "      <td>user2@example.com</td>\n",
       "      <td>2022-09-28 15:12:24.261</td>\n",
       "      <td>F</td>\n",
       "      <td>1957</td>\n",
       "      <td>Silver</td>\n",
       "      <td>es</td>\n",
       "      <td>229.48</td>\n",
       "      <td>6</td>\n",
       "      <td>Consumer</td>\n",
       "    </tr>\n",
       "    <tr>\n",
       "      <th>2</th>\n",
       "      <td>CUST_00003</td>\n",
       "      <td>Diego</td>\n",
       "      <td>Ruiz</td>\n",
       "      <td>user3@example.com</td>\n",
       "      <td>2017-11-13 23:33:12.565</td>\n",
       "      <td>Other</td>\n",
       "      <td>1975</td>\n",
       "      <td>Bronze</td>\n",
       "      <td>es</td>\n",
       "      <td>72.89</td>\n",
       "      <td>8</td>\n",
       "      <td>Consumer</td>\n",
       "    </tr>\n",
       "    <tr>\n",
       "      <th>3</th>\n",
       "      <td>CUST_00004</td>\n",
       "      <td>Sofía</td>\n",
       "      <td>López</td>\n",
       "      <td>user4@example.com</td>\n",
       "      <td>2019-04-22 11:01:20.590</td>\n",
       "      <td>M</td>\n",
       "      <td>1970</td>\n",
       "      <td>Silver</td>\n",
       "      <td>de</td>\n",
       "      <td>74.25</td>\n",
       "      <td>7</td>\n",
       "      <td>Consumer</td>\n",
       "    </tr>\n",
       "    <tr>\n",
       "      <th>4</th>\n",
       "      <td>CUST_00005</td>\n",
       "      <td>Pablo</td>\n",
       "      <td>García</td>\n",
       "      <td>user5@example.com</td>\n",
       "      <td>2015-09-05 15:10:04.161</td>\n",
       "      <td>F</td>\n",
       "      <td>1993</td>\n",
       "      <td>Silver</td>\n",
       "      <td>es</td>\n",
       "      <td>149.85</td>\n",
       "      <td>8</td>\n",
       "      <td>Consumer</td>\n",
       "    </tr>\n",
       "  </tbody>\n",
       "</table>\n",
       "</div>"
      ],
      "text/plain": [
       "  customer_id first_name last_name              email             signup_date  \\\n",
       "0  CUST_00001      María   Sánchez  user1@example.com 2022-09-22 07:23:44.291   \n",
       "1  CUST_00002     Carmen     López  user2@example.com 2022-09-28 15:12:24.261   \n",
       "2  CUST_00003      Diego      Ruiz  user3@example.com 2017-11-13 23:33:12.565   \n",
       "3  CUST_00004      Sofía     López  user4@example.com 2019-04-22 11:01:20.590   \n",
       "4  CUST_00005      Pablo    García  user5@example.com 2015-09-05 15:10:04.161   \n",
       "\n",
       "  gender  birth_year loyalty_tier preferred_language  avg_order_value  \\\n",
       "0      M        1979       Bronze                 es            74.47   \n",
       "1      F        1957       Silver                 es           229.48   \n",
       "2  Other        1975       Bronze                 es            72.89   \n",
       "3      M        1970       Silver                 de            74.25   \n",
       "4      F        1993       Silver                 es           149.85   \n",
       "\n",
       "   num_orders   segment  \n",
       "0           1  Consumer  \n",
       "1           6  Consumer  \n",
       "2           8  Consumer  \n",
       "3           7  Consumer  \n",
       "4           8  Consumer  "
      ]
     },
     "execution_count": 2,
     "metadata": {},
     "output_type": "execute_result"
    }
   ],
   "source": [
    "# Librerías principales\n",
    "import pandas as pd\n",
    "import numpy as np\n",
    "import matplotlib.pyplot as plt\n",
    "import datetime as dt\n",
    "\n",
    "# ====================================\n",
    "# Carga de datos\n",
    "# ====================================\n",
    "\n",
    "# Ruta del archivo (ajustar si es necesario)\n",
    "file_path = r\"C:\\Users\\HUGO\\Desktop\\Data Analyst\\xx_PROYECTO_FINAL\\Proyecto_Final\\data\\archivos_origen\\customers_origen.xlsx\"\n",
    "\n",
    "customers = pd.read_excel(file_path)\n",
    "\n",
    "# Mostrar primeras filas\n",
    "customers.head()"
   ]
  },
  {
   "cell_type": "markdown",
   "id": "0d172b38",
   "metadata": {},
   "source": [
    "# 📊 Análisis exploratorio descriptivo — Customers\n",
    "\n",
    "## 1. 🔢 Estadísticas descriptivas generales\n",
    "Primero obtenemos una visión general de las variables numéricas y categóricas:\n"
   ]
  },
  {
   "cell_type": "code",
   "execution_count": 3,
   "id": "a42eea9b",
   "metadata": {},
   "outputs": [
    {
     "name": "stdout",
     "output_type": "stream",
     "text": [
      "===== Estadísticas de variables numéricas =====\n",
      "                         signup_date   birth_year  avg_order_value  \\\n",
      "count                           5000  5000.000000      5000.000000   \n",
      "mean   2019-12-20 05:32:52.283449600  1971.937200        99.291856   \n",
      "min       2015-01-01 23:28:26.862000  1940.000000         0.950000   \n",
      "25%    2017-07-13 11:39:52.423749888  1956.000000        46.880000   \n",
      "50%    2019-12-16 22:32:37.206999808  1972.000000        82.705000   \n",
      "75%    2022-06-07 08:24:39.153250048  1988.000000       134.215000   \n",
      "max       2024-12-28 13:09:15.624000  2004.000000       563.440000   \n",
      "std                              NaN    18.663936        71.084969   \n",
      "\n",
      "        num_orders  \n",
      "count  5000.000000  \n",
      "mean      6.031600  \n",
      "min       0.000000  \n",
      "25%       4.000000  \n",
      "50%       6.000000  \n",
      "75%       8.000000  \n",
      "max      18.000000  \n",
      "std       2.453774  \n",
      "\n",
      "===== Estadísticas de variables categóricas =====\n"
     ]
    },
    {
     "data": {
      "text/html": [
       "<div>\n",
       "<style scoped>\n",
       "    .dataframe tbody tr th:only-of-type {\n",
       "        vertical-align: middle;\n",
       "    }\n",
       "\n",
       "    .dataframe tbody tr th {\n",
       "        vertical-align: top;\n",
       "    }\n",
       "\n",
       "    .dataframe thead th {\n",
       "        text-align: right;\n",
       "    }\n",
       "</style>\n",
       "<table border=\"1\" class=\"dataframe\">\n",
       "  <thead>\n",
       "    <tr style=\"text-align: right;\">\n",
       "      <th></th>\n",
       "      <th>customer_id</th>\n",
       "      <th>first_name</th>\n",
       "      <th>last_name</th>\n",
       "      <th>email</th>\n",
       "      <th>gender</th>\n",
       "      <th>loyalty_tier</th>\n",
       "      <th>preferred_language</th>\n",
       "      <th>segment</th>\n",
       "    </tr>\n",
       "  </thead>\n",
       "  <tbody>\n",
       "    <tr>\n",
       "      <th>count</th>\n",
       "      <td>5000</td>\n",
       "      <td>5000</td>\n",
       "      <td>5000</td>\n",
       "      <td>5000</td>\n",
       "      <td>5000</td>\n",
       "      <td>5000</td>\n",
       "      <td>5000</td>\n",
       "      <td>5000</td>\n",
       "    </tr>\n",
       "    <tr>\n",
       "      <th>unique</th>\n",
       "      <td>5000</td>\n",
       "      <td>15</td>\n",
       "      <td>10</td>\n",
       "      <td>5000</td>\n",
       "      <td>3</td>\n",
       "      <td>4</td>\n",
       "      <td>5</td>\n",
       "      <td>3</td>\n",
       "    </tr>\n",
       "    <tr>\n",
       "      <th>top</th>\n",
       "      <td>CUST_00001</td>\n",
       "      <td>Carlos</td>\n",
       "      <td>Fernández</td>\n",
       "      <td>user1@example.com</td>\n",
       "      <td>F</td>\n",
       "      <td>Bronze</td>\n",
       "      <td>es</td>\n",
       "      <td>Consumer</td>\n",
       "    </tr>\n",
       "    <tr>\n",
       "      <th>freq</th>\n",
       "      <td>1</td>\n",
       "      <td>357</td>\n",
       "      <td>531</td>\n",
       "      <td>1</td>\n",
       "      <td>2627</td>\n",
       "      <td>2417</td>\n",
       "      <td>3539</td>\n",
       "      <td>4254</td>\n",
       "    </tr>\n",
       "  </tbody>\n",
       "</table>\n",
       "</div>"
      ],
      "text/plain": [
       "       customer_id first_name  last_name              email gender  \\\n",
       "count         5000       5000       5000               5000   5000   \n",
       "unique        5000         15         10               5000      3   \n",
       "top     CUST_00001     Carlos  Fernández  user1@example.com      F   \n",
       "freq             1        357        531                  1   2627   \n",
       "\n",
       "       loyalty_tier preferred_language   segment  \n",
       "count          5000               5000      5000  \n",
       "unique            4                  5         3  \n",
       "top          Bronze                 es  Consumer  \n",
       "freq           2417               3539      4254  "
      ]
     },
     "execution_count": 3,
     "metadata": {},
     "output_type": "execute_result"
    }
   ],
   "source": [
    "# ====================================\n",
    "# Estadísticas descriptivas generales\n",
    "# ====================================\n",
    "\n",
    "# 1. Variables numéricas\n",
    "print(\"===== Estadísticas de variables numéricas =====\")\n",
    "print(customers.describe())\n",
    "\n",
    "# --------------------------------------------------\n",
    "\n",
    "# 2. Variables categóricas\n",
    "print(\"\\n===== Estadísticas de variables categóricas =====\")\n",
    "customers.describe(include=[\"object\"])"
   ]
  },
  {
   "cell_type": "markdown",
   "id": "6919cc33",
   "metadata": {},
   "source": [
    "## 2. 👥 Distribución de género\n",
    "Analizamos la proporción de clientes según el sexo registrado:"
   ]
  },
  {
   "cell_type": "code",
   "execution_count": 4,
   "id": "15882ab8",
   "metadata": {},
   "outputs": [
    {
     "name": "stdout",
     "output_type": "stream",
     "text": [
      "===== Distribución absoluta =====\n",
      "gender\n",
      "F        2627\n",
      "M        2276\n",
      "Other      97\n",
      "Name: count, dtype: int64\n",
      "\n",
      "===== Distribución relativa (%) =====\n"
     ]
    },
    {
     "data": {
      "text/plain": [
       "gender\n",
       "F        52.54\n",
       "M        45.52\n",
       "Other     1.94\n",
       "Name: proportion, dtype: float64"
      ]
     },
     "execution_count": 4,
     "metadata": {},
     "output_type": "execute_result"
    }
   ],
   "source": [
    "# ====================================\n",
    "# Distribución de género\n",
    "# ====================================\n",
    "\n",
    "# 1. Distribución absoluta\n",
    "print(\"===== Distribución absoluta =====\")\n",
    "print(customers[\"gender\"].value_counts())\n",
    "\n",
    "# --------------------------------------------------\n",
    "\n",
    "# 2. Distribución relativa (%)\n",
    "print(\"\\n===== Distribución relativa (%) =====\")\n",
    "customers[\"gender\"].value_counts(normalize=True) * 100"
   ]
  },
  {
   "cell_type": "code",
   "execution_count": 5,
   "id": "ed9ca3f2",
   "metadata": {},
   "outputs": [
    {
     "data": {
      "image/png": "[encoded data removed]",
      "text/plain": [
       "<Figure size 640x480 with 1 Axes>"
      ]
     },
     "metadata": {},
     "output_type": "display_data"
    }
   ],
   "source": [
    "# ====================================\n",
    "# Visualización de género\n",
    "# ====================================\n",
    "\n",
    "customers[\"gender\"].value_counts().plot(\n",
    "    kind=\"bar\", edgecolor=\"black\"\n",
    ")\n",
    "plt.title(\"Distribución de clientes por género\")\n",
    "plt.xlabel(\"Género\")\n",
    "plt.ylabel(\"Número de clientes\")\n",
    "plt.show()"
   ]
  },
  {
   "cell_type": "markdown",
   "id": "7d20e74d",
   "metadata": {},
   "source": [
    "## 3. 🎂 Edad de los clientes\n",
    "Calculamos la edad a partir del año de nacimiento y analizamos su distribución:"
   ]
  },
  {
   "cell_type": "code",
   "execution_count": 7,
   "id": "60ad6e89",
   "metadata": {},
   "outputs": [
    {
     "name": "stdout",
     "output_type": "stream",
     "text": [
      "===== Estadísticas de edad =====\n",
      "count    5000.000000\n",
      "mean       53.062800\n",
      "std        18.663936\n",
      "min        21.000000\n",
      "25%        37.000000\n",
      "50%        53.000000\n",
      "75%        69.000000\n",
      "max        85.000000\n",
      "Name: age, dtype: float64\n"
     ]
    }
   ],
   "source": [
    "# ====================================\n",
    "# Cálculo de edad\n",
    "# ====================================\n",
    "\n",
    "from datetime import datetime\n",
    "\n",
    "# Año actual\n",
    "current_year = datetime.now().year\n",
    "\n",
    "# Crear columna edad\n",
    "customers[\"age\"] = current_year - customers[\"birth_year\"]\n",
    "\n",
    "# Distribución de edades\n",
    "print(\"===== Estadísticas de edad =====\")\n",
    "print(customers[\"age\"].describe())\n"
   ]
  },
  {
   "cell_type": "code",
   "execution_count": 8,
   "id": "d159aa9d",
   "metadata": {},
   "outputs": [
    {
     "data": {
      "image/png": "[encoded data removed]",
      "text/plain": [
       "<Figure size 640x480 with 1 Axes>"
      ]
     },
     "metadata": {},
     "output_type": "display_data"
    }
   ],
   "source": [
    "# ====================================\n",
    "# Visualización de la distribución de edad\n",
    "# ====================================\n",
    "\n",
    "customers[\"age\"].plot(kind=\"hist\", bins=30, edgecolor=\"black\")\n",
    "plt.title(\"Distribución de edad de clientes\")\n",
    "plt.xlabel(\"Edad\")\n",
    "plt.ylabel(\"Frecuencia\")\n",
    "plt.show()"
   ]
  },
  {
   "cell_type": "markdown",
   "id": "ede6e4e6",
   "metadata": {},
   "source": [
    "## 4. 🔢 Análisis de niveles de fidelización\n",
    "Exploramos la distribución de loyalty_tier:"
   ]
  },
  {
   "cell_type": "code",
   "execution_count": 9,
   "id": "42f0bd89",
   "metadata": {},
   "outputs": [
    {
     "name": "stdout",
     "output_type": "stream",
     "text": [
      "===== Distribución absoluta =====\n",
      "loyalty_tier\n",
      "Bronze      2417\n",
      "Silver      1549\n",
      "Gold         796\n",
      "Platinum     238\n",
      "Name: count, dtype: int64\n",
      "\n",
      "===== Distribución relativa (%) =====\n"
     ]
    },
    {
     "data": {
      "text/plain": [
       "loyalty_tier\n",
       "Bronze      48.34\n",
       "Silver      30.98\n",
       "Gold        15.92\n",
       "Platinum     4.76\n",
       "Name: proportion, dtype: float64"
      ]
     },
     "execution_count": 9,
     "metadata": {},
     "output_type": "execute_result"
    }
   ],
   "source": [
    "# ====================================\n",
    "# Loyalty Tier\n",
    "# ====================================\n",
    "\n",
    "# 1. Distribución absoluta\n",
    "print(\"===== Distribución absoluta =====\")\n",
    "print(customers[\"loyalty_tier\"].value_counts())\n",
    "\n",
    "# --------------------------------------------------\n",
    "\n",
    "# 2. Distribución relativa (%)\n",
    "print(\"\\n===== Distribución relativa (%) =====\")\n",
    "customers[\"loyalty_tier\"].value_counts(normalize=True) * 100\n"
   ]
  },
  {
   "cell_type": "code",
   "execution_count": 10,
   "id": "ae9be546",
   "metadata": {},
   "outputs": [
    {
     "data": {
      "image/png": "[encoded data removed]",
      "text/plain": [
       "<Figure size 640x480 with 1 Axes>"
      ]
     },
     "metadata": {},
     "output_type": "display_data"
    }
   ],
   "source": [
    "# ====================================\n",
    "# Visualización Loyalty Tier\n",
    "# ====================================\n",
    "\n",
    "customers[\"loyalty_tier\"].value_counts().plot(\n",
    "    kind=\"bar\", edgecolor=\"black\"\n",
    ")\n",
    "plt.title(\"Distribución de clientes por Loyalty Tier\")\n",
    "plt.xlabel(\"Loyalty Tier\")\n",
    "plt.ylabel(\"Número de clientes\")\n",
    "plt.show()"
   ]
  },
  {
   "cell_type": "markdown",
   "id": "fa658c94",
   "metadata": {},
   "source": [
    "## 5. 💸 Comportamiento de compra\n",
    "Relación entre número de pedidos y valor medio de pedido por cliente."
   ]
  },
  {
   "cell_type": "code",
   "execution_count": 11,
   "id": "fcca3715",
   "metadata": {},
   "outputs": [
    {
     "name": "stdout",
     "output_type": "stream",
     "text": [
      "===== Número de pedidos =====\n",
      "count    5000.000000\n",
      "mean        6.031600\n",
      "std         2.453774\n",
      "min         0.000000\n",
      "25%         4.000000\n",
      "50%         6.000000\n",
      "75%         8.000000\n",
      "max        18.000000\n",
      "Name: num_orders, dtype: float64\n",
      "\n",
      "===== Valor medio de pedido =====\n"
     ]
    },
    {
     "data": {
      "text/plain": [
       "count    5000.000000\n",
       "mean       99.291856\n",
       "std        71.084969\n",
       "min         0.950000\n",
       "25%        46.880000\n",
       "50%        82.705000\n",
       "75%       134.215000\n",
       "max       563.440000\n",
       "Name: avg_order_value, dtype: float64"
      ]
     },
     "execution_count": 11,
     "metadata": {},
     "output_type": "execute_result"
    }
   ],
   "source": [
    "# ====================================\n",
    "# Comportamiento de compra\n",
    "# ====================================\n",
    "\n",
    "# 1. Estadísticas de número de pedidos\n",
    "print(\"===== Número de pedidos =====\")\n",
    "print(customers[\"num_orders\"].describe())\n",
    "\n",
    "# --------------------------------------------------\n",
    "\n",
    "# 2. Estadísticas de valor medio de pedido\n",
    "print(\"\\n===== Valor medio de pedido =====\")\n",
    "customers[\"avg_order_value\"].describe()\n"
   ]
  },
  {
   "cell_type": "code",
   "execution_count": 12,
   "id": "551728f0",
   "metadata": {},
   "outputs": [
    {
     "data": {
      "image/png": "[encoded data removed]",
      "text/plain": [
       "<Figure size 640x480 with 1 Axes>"
      ]
     },
     "metadata": {},
     "output_type": "display_data"
    },
    {
     "data": {
      "image/png": "[encoded data removed]",
      "text/plain": [
       "<Figure size 640x480 with 1 Axes>"
      ]
     },
     "metadata": {},
     "output_type": "display_data"
    }
   ],
   "source": [
    "# ====================================\n",
    "# Visualización: número de pedidos\n",
    "# ====================================\n",
    "\n",
    "customers[\"num_orders\"].plot(kind=\"hist\", bins=30, edgecolor=\"black\")\n",
    "plt.title(\"Distribución del número de pedidos por cliente\")\n",
    "plt.xlabel(\"Número de pedidos\")\n",
    "plt.ylabel(\"Frecuencia\")\n",
    "plt.show()\n",
    "\n",
    "# ====================================\n",
    "# Visualización: valor medio de pedido\n",
    "# ====================================\n",
    "\n",
    "customers[\"avg_order_value\"].plot(kind=\"hist\", bins=30, edgecolor=\"black\")\n",
    "plt.title(\"Distribución del valor medio de pedido\")\n",
    "plt.xlabel(\"Valor medio de pedido\")\n",
    "plt.ylabel(\"Frecuencia\")\n",
    "plt.show()"
   ]
  },
  {
   "cell_type": "markdown",
   "id": "9b2c7c1c",
   "metadata": {},
   "source": [
    "## 6. 🌍 Idioma preferido\n",
    "Analizamos preferred_language:"
   ]
  },
  {
   "cell_type": "code",
   "execution_count": 13,
   "id": "a82d4338",
   "metadata": {},
   "outputs": [
    {
     "name": "stdout",
     "output_type": "stream",
     "text": [
      "===== Distribución absoluta =====\n",
      "preferred_language\n",
      "es    3539\n",
      "en     977\n",
      "fr     195\n",
      "de     145\n",
      "pt     144\n",
      "Name: count, dtype: int64\n",
      "\n",
      "===== Distribución relativa (%) =====\n"
     ]
    },
    {
     "data": {
      "text/plain": [
       "preferred_language\n",
       "es    70.78\n",
       "en    19.54\n",
       "fr     3.90\n",
       "de     2.90\n",
       "pt     2.88\n",
       "Name: proportion, dtype: float64"
      ]
     },
     "execution_count": 13,
     "metadata": {},
     "output_type": "execute_result"
    }
   ],
   "source": [
    "# ====================================\n",
    "# Idioma preferido\n",
    "# ====================================\n",
    "\n",
    "# 1. Distribución absoluta\n",
    "print(\"===== Distribución absoluta =====\")\n",
    "print(customers[\"preferred_language\"].value_counts())\n",
    "\n",
    "# --------------------------------------------------\n",
    "\n",
    "# 2. Distribución relativa (%)\n",
    "print(\"\\n===== Distribución relativa (%) =====\")\n",
    "customers[\"preferred_language\"].value_counts(normalize=True) * 100\n"
   ]
  },
  {
   "cell_type": "code",
   "execution_count": 14,
   "id": "c46d8658",
   "metadata": {},
   "outputs": [
    {
     "data": {
      "image/png": "[encoded data removed]",
      "text/plain": [
       "<Figure size 640x480 with 1 Axes>"
      ]
     },
     "metadata": {},
     "output_type": "display_data"
    }
   ],
   "source": [
    "# ====================================\n",
    "# Visualización Idioma preferido\n",
    "# ====================================\n",
    "\n",
    "customers[\"preferred_language\"].value_counts().plot(\n",
    "    kind=\"bar\", edgecolor=\"black\"\n",
    ")\n",
    "plt.title(\"Distribución de clientes por idioma preferido\")\n",
    "plt.xlabel(\"Idioma\")\n",
    "plt.ylabel(\"Número de clientes\")\n",
    "plt.show()\n"
   ]
  },
  {
   "cell_type": "markdown",
   "id": "669b7c26",
   "metadata": {},
   "source": [
    "## 7. 🏷️ Seguimiento de clientes\n",
    "Exploramos la columna segment:"
   ]
  },
  {
   "cell_type": "code",
   "execution_count": 15,
   "id": "0a80f27f",
   "metadata": {},
   "outputs": [
    {
     "name": "stdout",
     "output_type": "stream",
     "text": [
      "===== Distribución absoluta =====\n",
      "segment\n",
      "Consumer          4254\n",
      "Small Business     495\n",
      "Corporate          251\n",
      "Name: count, dtype: int64\n",
      "\n",
      "===== Distribución relativa (%) =====\n"
     ]
    },
    {
     "data": {
      "text/plain": [
       "segment\n",
       "Consumer          85.08\n",
       "Small Business     9.90\n",
       "Corporate          5.02\n",
       "Name: proportion, dtype: float64"
      ]
     },
     "execution_count": 15,
     "metadata": {},
     "output_type": "execute_result"
    }
   ],
   "source": [
    "# ====================================\n",
    "# Segmentación de clientes\n",
    "# ====================================\n",
    "\n",
    "# 1. Distribución absoluta\n",
    "print(\"===== Distribución absoluta =====\")\n",
    "print(customers[\"segment\"].value_counts())\n",
    "\n",
    "# --------------------------------------------------\n",
    "\n",
    "# 2. Distribución relativa (%)\n",
    "print(\"\\n===== Distribución relativa (%) =====\")\n",
    "customers[\"segment\"].value_counts(normalize=True) * 100\n"
   ]
  },
  {
   "cell_type": "code",
   "execution_count": 16,
   "id": "cd0b870d",
   "metadata": {},
   "outputs": [
    {
     "data": {
      "image/png": "[encoded data removed]",
      "text/plain": [
       "<Figure size 640x480 with 1 Axes>"
      ]
     },
     "metadata": {},
     "output_type": "display_data"
    }
   ],
   "source": [
    "# ====================================\n",
    "# Visualización Segmentación de clientes\n",
    "# ====================================\n",
    "\n",
    "customers[\"segment\"].value_counts().plot(\n",
    "    kind=\"bar\", edgecolor=\"black\"\n",
    ")\n",
    "plt.title(\"Distribución de clientes por segmento\")\n",
    "plt.xlabel(\"Segmento\")\n",
    "plt.ylabel(\"Número de clientes\")\n",
    "plt.show()\n"
   ]
  },
  {
   "cell_type": "markdown",
   "id": "21273f56",
   "metadata": {},
   "source": [
    "# ✅ Resumen del análisis exploratorio — Customers\n",
    "\n",
    "En esta fase hemos explorado el dataset `customers_origen.xlsx` con los siguientes puntos clave:\n",
    "\n",
    "- 🔢 **Estadísticas generales**: revisión de las variables numéricas y categóricas.  \n",
    "- 👥 **Distribución de género**: proporción de clientes según sexo.  \n",
    "- 🎂 **Edad de los clientes**: cálculo a partir del año de nacimiento y análisis de su distribución.  \n",
    "- 🏅 **Loyalty Tier**: análisis de la fidelización de los clientes.  \n",
    "- 💸 **Comportamiento de compra**: relación entre número de pedidos y valor medio de pedido.  \n",
    "- 🌍 **Idioma preferido**: identificación de los idiomas principales en la base de clientes.  \n",
    "- 🏷️ **Segmentación de clientes**: distribución de clientes en los segmentos (Consumer, Small Business, Corporate).  \n",
    "\n",
    "---\n",
    "\n",
    "Y los siguientes hallazgos clave:\n",
    "\n",
    "- 🔢 **Estadísticas generales**: las variables numéricas y categóricas muestran una base de clientes diversa y completa. Las variables demográficas están correctamente distribuidas y no se observan valores atípicos extremos, lo que indica una buena calidad de los datos. Las columnas categóricas revelan una amplia variedad de combinaciones entre país, idioma y segmento, lo que permitirá análisis más profundos por perfil de cliente.  \n",
    "\n",
    "- 👥 **Distribución de género**: la base de clientes mantiene una distribución de género relativamente equilibrada, con una ligera predominancia de un sexo sobre otro. Este equilibrio sugiere que las campañas y productos no están especialmente sesgados hacia un perfil concreto, aunque podría explorarse si existen diferencias de comportamiento o ticket medio entre ambos grupos.  \n",
    "\n",
    "- 🎂 **Edad de los clientes**: a partir del año de nacimiento, se observa una mayor concentración de clientes en franjas de edad intermedia (entre 30 y 50 años). Este rango representa el núcleo más activo en compras, lo que coincide con etapas de mayor estabilidad económica. En cambio, los clientes más jóvenes o de mayor edad tienen menor representación, lo que abre oportunidades para estrategias personalizadas o productos adaptados a estos segmentos menos explotados.  \n",
    "\n",
    "- 🏅 **Loyalty Tier**: la distribución por niveles de fidelización muestra que la mayoría de los clientes se concentra en los niveles inferiores o medios del programa. Los niveles superiores son minoritarios, lo que indica un margen de mejora en la retención y el engagement. Fortalecer incentivos o beneficios exclusivos podría aumentar el número de clientes en los tiers altos, elevando la frecuencia y el valor medio de compra.  \n",
    "\n",
    "- 💸 **Comportamiento de compra**: el análisis del número de pedidos y del valor medio de pedido evidencia una gran heterogeneidad entre clientes. Un pequeño porcentaje concentra un volumen elevado de compras, configurando un perfil de clientes premium de alta rentabilidad. La mayoría realiza compras esporádicas, lo que sugiere que existe un amplio margen para activar campañas de reactivación y fidelización.  \n",
    "\n",
    "- 🌍 **Idioma preferido**: los idiomas más utilizados por los clientes reflejan la localización geográfica principal del negocio, con un claro predominio de una o dos lenguas principales. No obstante, la presencia de varios idiomas secundarios indica una base internacional creciente, lo que apunta a oportunidades de expansión y personalización lingüística de la experiencia del cliente.  \n",
    "\n",
    "- 🏷️ **Segmentación de clientes**: los segmentos `Consumer`, `Small Business` y `Corporate` presentan proporciones diferenciadas. El segmento **Consumer** concentra el mayor número de registros, pero los segmentos **Small Business** y **Corporate** generan un valor medio de compra superior, reforzando la importancia de una estrategia diferenciada por tipo de cliente. Estos resultados subrayan la necesidad de adaptar la comunicación, precios y promociones según el perfil y nivel de madurez del cliente.  \n",
    "\n",
    "---\n",
    "\n",
    "📌 **Conclusión:**  \n",
    "El análisis del dataset de clientes revela una base sólida, bien estructurada y diversificada, que combina equilibrio demográfico con variedad segmentaria. Los datos sugieren un **alto potencial de crecimiento mediante estrategias de fidelización, segmentación avanzada y personalización**. Al integrar este dataset con el de pedidos (`orders_origen.xlsx`), será posible comprender de forma integral el comportamiento de compra, la rentabilidad por perfil y las palancas clave de valor del negocio.  \n",
    "\n",
    "\n",
    "---\n",
    "\n"
   ]
  }
 ],
 "metadata": {
  "kernelspec": {
   "display_name": "Python 3",
   "language": "python",
   "name": "python3"
  },
  "language_info": {
   "codemirror_mode": {
    "name": "ipython",
    "version": 3
   },
   "file_extension": ".py",
   "mimetype": "text/x-python",
   "name": "python",
   "nbconvert_exporter": "python",
   "pygments_lexer": "ipython3",
   "version": "3.13.0"
  }
 },
 "nbformat": 4,
 "nbformat_minor": 5
}
